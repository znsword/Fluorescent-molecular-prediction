{
  "cells": [
    {
      "cell_type": "markdown",
      "metadata": {
        "id": "TAqaSvKJH0ns"
      },
      "source": [
        "# Deep Graph Library"
      ]
    },
    {
      "cell_type": "code",
      "source": [
        "from google.colab import drive\n",
        "drive.mount('/content/drive')"
      ],
      "metadata": {
        "id": "fcFWUPitIiwU",
        "outputId": "5a53453d-7613-46db-83b4-8f9d746313be",
        "colab": {
          "base_uri": "https://localhost:8080/"
        }
      },
      "execution_count": 1,
      "outputs": [
        {
          "output_type": "stream",
          "name": "stdout",
          "text": [
            "Mounted at /content/drive\n"
          ]
        }
      ]
    },
    {
      "cell_type": "markdown",
      "metadata": {
        "jupyter": {
          "source_hidden": true
        },
        "id": "50dRv4r_H0nt"
      },
      "source": [
        "<a href=\"https://colab.research.google.com/github/joerg84/Graph_Powered_ML_Workshop/blob/master/DGL.ipynb\" target=\"_parent\"><img src=\"https://colab.research.google.com/assets/colab-badge.svg\" alt=\"Open In Colab\"/></a>"
      ]
    },
    {
      "cell_type": "markdown",
      "metadata": {
        "id": "HjV5cK_9H0nt"
      },
      "source": [
        "First, setting up our environment."
      ]
    },
    {
      "cell_type": "code",
      "execution_count": null,
      "metadata": {
        "id": "5MKbol2jH0nu"
      },
      "outputs": [],
      "source": [
        "%%capture\n",
        "!git clone https://github.com/joerg84/Graph_Powered_ML_Workshop.git\n",
        "!rsync -av Graph_Powered_ML_Workshop/ ./ --exclude=.git\n",
        "!pip3 install dgl\n",
        "!pip3 install numpy\n",
        "!pip3 install torch\n",
        "!pip3 install networkx\n",
        "!pip3 install matplotlib"
      ]
    },
    {
      "cell_type": "code",
      "execution_count": null,
      "metadata": {
        "id": "cswjoCZkH0nu"
      },
      "outputs": [],
      "source": [
        "%matplotlib inline"
      ]
    },
    {
      "cell_type": "code",
      "execution_count": null,
      "metadata": {
        "id": "24-K1sGWH0nu"
      },
      "outputs": [],
      "source": [
        "import itertools\n",
        "import networkx as nx\n",
        "import matplotlib.pyplot as plt\n",
        "import dgl\n",
        "import numpy as np\n",
        "import torch\n",
        "import torch.nn as nn\n",
        "import torch.nn.functional as F\n",
        "from dgl.nn.pytorch import GraphConv"
      ]
    },
    {
      "cell_type": "markdown",
      "metadata": {
        "id": "pNphx7ymH0nu"
      },
      "source": [
        "Remember the Karate Club ![karate](https://github.com/joerg84/Graph_Powered_ML_Workshop/blob/master/img/karate_club.png?raw=1)"
      ]
    },
    {
      "cell_type": "code",
      "execution_count": null,
      "metadata": {
        "id": "h5sSTJHAH0nu"
      },
      "outputs": [],
      "source": [
        "def build_karate_club_graph():\n",
        "    # All 78 edges are stored in two numpy arrays. One for source endpoints\n",
        "    # while the other for destination endpoints.\n",
        "    src = np.array([1, 2, 2, 3, 3, 3, 4, 5, 6, 6, 6, 7, 7, 7, 7, 8, 8, 9, 10, 10,\n",
        "        10, 11, 12, 12, 13, 13, 13, 13, 16, 16, 17, 17, 19, 19, 21, 21,\n",
        "        25, 25, 27, 27, 27, 28, 29, 29, 30, 30, 31, 31, 31, 31, 32, 32,\n",
        "        32, 32, 32, 32, 32, 32, 32, 32, 32, 33, 33, 33, 33, 33, 33, 33,\n",
        "        33, 33, 33, 33, 33, 33, 33, 33, 33, 33])\n",
        "    dst = np.array([0, 0, 1, 0, 1, 2, 0, 0, 0, 4, 5, 0, 1, 2, 3, 0, 2, 2, 0, 4,\n",
        "        5, 0, 0, 3, 0, 1, 2, 3, 5, 6, 0, 1, 0, 1, 0, 1, 23, 24, 2, 23,\n",
        "        24, 2, 23, 26, 1, 8, 0, 24, 25, 28, 2, 8, 14, 15, 18, 20, 22, 23,\n",
        "        29, 30, 31, 8, 9, 13, 14, 15, 18, 19, 20, 22, 23, 26, 27, 28, 29, 30,\n",
        "        31, 32])\n",
        "    # Edges are directional in DGL; Make them bi-directional.\n",
        "    u = np.concatenate([src, dst])\n",
        "    v = np.concatenate([dst, src])\n",
        "    # Construct a DGLGraph\n",
        "    return dgl.DGLGraph((u, v))"
      ]
    },
    {
      "cell_type": "code",
      "execution_count": null,
      "metadata": {
        "id": "9FLI40N-H0nv"
      },
      "outputs": [],
      "source": [
        "G = build_karate_club_graph()\n",
        "print('We have %d nodes.' % G.number_of_nodes())\n",
        "print('We have %d edges.' % G.number_of_edges())"
      ]
    },
    {
      "cell_type": "code",
      "execution_count": null,
      "metadata": {
        "id": "XYEBzjIGH0nv"
      },
      "outputs": [],
      "source": [
        "# Since the actual graph is undirected, we convert it for visualization\n",
        "# purpose.\n",
        "nx_G = G.to_networkx().to_undirected()\n",
        "# Kamada-Kawaii layout usually looks pretty for arbitrary graphs\n",
        "pos = nx.kamada_kawai_layout(nx_G)\n",
        "nx.draw(nx_G, pos, with_labels=True, node_color=[[.7, .7, .7]])"
      ]
    },
    {
      "cell_type": "code",
      "execution_count": null,
      "metadata": {
        "id": "u5TjZ-HAH0nv"
      },
      "outputs": [],
      "source": [
        "# In DGL, you can add features for all nodes at once, using a feature tensor that\n",
        "# batches node features along the first dimension. The code below adds the learnable\n",
        "# embeddings for all nodes:\n",
        "\n",
        "embed = nn.Embedding(34, 5)  # 34 nodes with embedding dim equal to 5\n",
        "G.ndata['feat'] = embed.weight\n",
        "\n",
        "# print out node 2's input feature\n",
        "print(G.ndata['feat'][2])\n",
        "\n",
        "# print out node 10 and 11's input features\n",
        "print(G.ndata['feat'][[10, 11]])"
      ]
    },
    {
      "cell_type": "markdown",
      "metadata": {
        "id": "k9zHbD5XH0nv"
      },
      "source": [
        "# Create GCN"
      ]
    },
    {
      "cell_type": "code",
      "execution_count": null,
      "metadata": {
        "id": "9ypda1mKH0nv"
      },
      "outputs": [],
      "source": [
        " class GCN(nn.Module):\n",
        "    def __init__(self, in_feats, hidden_size, num_classes):\n",
        "        super(GCN, self).__init__()\n",
        "        self.conv1 = GraphConv(in_feats, hidden_size)\n",
        "        self.conv2 = GraphConv(hidden_size, num_classes)\n",
        "\n",
        "    def forward(self, g, inputs):\n",
        "        h = self.conv1(g, inputs)\n",
        "        h = torch.relu(h)\n",
        "        h = self.conv2(g, h)\n",
        "        return h\n",
        "\n",
        "# The first layer transforms input features of size of 5 to a hidden size of 5.\n",
        "# The second layer transforms the hidden layer and produces output features of\n",
        "# size 2, corresponding to the two groups of the karate club.\n",
        "net = GCN(5, 5, 2)"
      ]
    },
    {
      "cell_type": "markdown",
      "metadata": {
        "id": "-d0iNuvkH0nv"
      },
      "source": [
        "Label the instructor and president"
      ]
    },
    {
      "cell_type": "code",
      "execution_count": null,
      "metadata": {
        "id": "BrETgbgTH0nv"
      },
      "outputs": [],
      "source": [
        "inputs = embed.weight\n",
        "labeled_nodes = torch.tensor([0, 33])  # only the instructor and the president nodes are labeled\n",
        "labels = torch.tensor([0, 1])  # their labels are different"
      ]
    },
    {
      "cell_type": "code",
      "execution_count": null,
      "metadata": {
        "id": "JF1trW8SH0nv"
      },
      "outputs": [],
      "source": [
        "optimizer = torch.optim.Adam(itertools.chain(net.parameters(), embed.parameters()), lr=0.01)\n",
        "all_logits = []\n",
        "for epoch in range(50):\n",
        "    logits = net(G, inputs)\n",
        "    # we save the logits for visualization later\n",
        "    all_logits.append(logits.detach())\n",
        "    logp = F.log_softmax(logits, 1)\n",
        "    # we only compute loss for labeled nodes\n",
        "    loss = F.nll_loss(logp[labeled_nodes], labels)\n",
        "\n",
        "    optimizer.zero_grad()\n",
        "    loss.backward()\n",
        "    optimizer.step()\n",
        "\n",
        "    print('Epoch %d | Loss: %.4f' % (epoch, loss.item()))"
      ]
    },
    {
      "cell_type": "code",
      "execution_count": null,
      "metadata": {
        "id": "k6c0ShThH0nv"
      },
      "outputs": [],
      "source": [
        "import matplotlib.animation as animation\n",
        "import matplotlib.pyplot as plt\n",
        "\n",
        "def draw(i):\n",
        "    cls1color = '#00FFFF'\n",
        "    cls2color = '#FF00FF'\n",
        "    pos = {}\n",
        "    colors = []\n",
        "    for v in range(34):\n",
        "        pos[v] = all_logits[i][v].numpy()\n",
        "        cls = pos[v].argmax()\n",
        "        colors.append(cls1color if cls else cls2color)\n",
        "    ax.cla()\n",
        "    ax.axis('off')\n",
        "    ax.set_title('Epoch: %d' % i)\n",
        "    nx.draw_networkx(nx_G.to_undirected(), pos, node_color=colors,\n",
        "            with_labels=True, node_size=300, ax=ax)\n",
        "\n",
        "fig = plt.figure(dpi=150)\n",
        "fig.clf()\n",
        "ax = fig.subplots()\n",
        "draw(5) # Iterate to see different epochs\n",
        "plt.show()\n",
        "plt.close()"
      ]
    },
    {
      "cell_type": "markdown",
      "metadata": {
        "id": "JHvKjPDGH0nv"
      },
      "source": [
        "Next task: Try to implement graph classification (https://docs.dgl.ai/tutorials/basics/4_batch.html)"
      ]
    },
    {
      "cell_type": "markdown",
      "metadata": {
        "id": "29C61dTvH0nv"
      },
      "source": [
        " ![Graph Types](https://github.com/joerg84/Graph_Powered_ML_Workshop/blob/master/img/graph_types.png?raw=1)"
      ]
    },
    {
      "cell_type": "code",
      "execution_count": null,
      "metadata": {
        "id": "yRGej4VRH0nv"
      },
      "outputs": [],
      "source": []
    }
  ],
  "metadata": {
    "kernelspec": {
      "display_name": "Python 3",
      "language": "python",
      "name": "python3"
    },
    "language_info": {
      "codemirror_mode": {
        "name": "ipython",
        "version": 3
      },
      "file_extension": ".py",
      "mimetype": "text/x-python",
      "name": "python",
      "nbconvert_exporter": "python",
      "pygments_lexer": "ipython3",
      "version": "3.7.7"
    },
    "colab": {
      "provenance": []
    }
  },
  "nbformat": 4,
  "nbformat_minor": 0
}